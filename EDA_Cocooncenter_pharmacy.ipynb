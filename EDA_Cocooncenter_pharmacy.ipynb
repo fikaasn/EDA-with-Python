{
  "nbformat": 4,
  "nbformat_minor": 0,
  "metadata": {
    "colab": {
      "provenance": [],
      "authorship_tag": "ABX9TyNNInb4T2810LmrKBu5m3Jg",
      "include_colab_link": true
    },
    "kernelspec": {
      "name": "python3",
      "display_name": "Python 3"
    },
    "language_info": {
      "name": "python"
    }
  },
  "cells": [
    {
      "cell_type": "markdown",
      "metadata": {
        "id": "view-in-github",
        "colab_type": "text"
      },
      "source": [
        "<a href=\"https://colab.research.google.com/github/fikaasn/EDA-with-Python/blob/main/EDA_Cocooncenter_pharmacy.ipynb\" target=\"_parent\"><img src=\"https://colab.research.google.com/assets/colab-badge.svg\" alt=\"Open In Colab\"/></a>"
      ]
    },
    {
      "cell_type": "code",
      "execution_count": null,
      "metadata": {
        "id": "AdPHXfbDvywK"
      },
      "outputs": [],
      "source": [
        "# Import libraries\n",
        "import matplotlib.pyplot as plt\n",
        "import seaborn as sns\n",
        "import pandas as pd\n",
        "import numpy as np"
      ]
    },
    {
      "cell_type": "code",
      "source": [
        "# Mount google drive\n",
        "from google.colab import drive\n",
        "drive.mount('/content/gdrive')"
      ],
      "metadata": {
        "colab": {
          "base_uri": "https://localhost:8080/"
        },
        "id": "OEaaflDlv4aS",
        "outputId": "998349b4-2c13-4c4a-a50c-fbe30797e8dd"
      },
      "execution_count": null,
      "outputs": [
        {
          "output_type": "stream",
          "name": "stdout",
          "text": [
            "Mounted at /content/gdrive\n"
          ]
        }
      ]
    },
    {
      "cell_type": "code",
      "source": [
        "# Read data\n",
        "df = pd.read_csv('/content/gdrive/MyDrive/Data Analysis/Coco_pharmacy.csv', delimiter=';')"
      ],
      "metadata": {
        "id": "0EeOQuJFwFNr"
      },
      "execution_count": null,
      "outputs": []
    },
    {
      "cell_type": "markdown",
      "source": [
        "## 1. Missing Value Check and Handling"
      ],
      "metadata": {
        "id": "Jl_OP40DxLRY"
      }
    },
    {
      "cell_type": "code",
      "source": [
        "# Print 5 data samples\n",
        "df.sample(5)"
      ],
      "metadata": {
        "colab": {
          "base_uri": "https://localhost:8080/",
          "height": 603
        },
        "id": "9vf6kh2OxM10",
        "outputId": "8c84b297-5358-43da-8ede-22f879996932"
      },
      "execution_count": null,
      "outputs": [
        {
          "output_type": "execute_result",
          "data": {
            "text/plain": [
              "           EAN_code             product_cat     brand   form  price  \\\n",
              "413   3401326306048       Body Moisturisers  Bioderma  Cream   19.9   \n",
              "887   3700281702293       Body Moisturisers  Topicrem   Milk   16.5   \n",
              "1513  3661434006968  Body Soothing Products    Uriage   Balm   18.9   \n",
              "1293  3264680009761           Body Dry Oils      Nuxe    Oil   12.3   \n",
              "405   3401326306048       Body Moisturisers  Bioderma  Cream   19.9   \n",
              "\n",
              "                                            description  num_review  \\\n",
              "413   Bioderma Atoderm Ultra Nourishing Cream 2 x 500ml         507   \n",
              "887                     Topicrem UH Body Milk 2 x 500ml         295   \n",
              "1513    Uriage Xémose Anti-Itch Soothing Oil Balm 500ml           2   \n",
              "1293  Nuxe Huile Prodigieuse Multi-Purpose Dry Oil 50ml          27   \n",
              "405   Bioderma Atoderm Ultra Nourishing Cream 2 x 500ml         507   \n",
              "\n",
              "      overall_rate overall_prod_qual          customer_id  ...  gender  \\\n",
              "413            4.8               4.9              Una T.   ...  female   \n",
              "887            4.9               4.9     Pleshivtceva O.   ...  female   \n",
              "1513           5.0               5.0              Emilie   ...  female   \n",
              "1293           4.9               4.8       Waterhouse S.   ...  female   \n",
              "405            4.8               4.9   Joka Brkljacic V.   ...  female   \n",
              "\n",
              "          customer_loc cus_rev_num  review_vote  customer_rate   product_qual  \\\n",
              "413     Riga, Latvia             5            0              5  not available   \n",
              "887           London             4            0              5  not available   \n",
              "1513         Toronto             1            0              5              5   \n",
              "1293         indonesia           2            4              5  not available   \n",
              "405          indonesia           1            0              5  not available   \n",
              "\n",
              "          recommend head_review  \\\n",
              "413   not available   available   \n",
              "887   not available   available   \n",
              "1513            yes        good   \n",
              "1293  not available   available   \n",
              "405   not available   available   \n",
              "\n",
              "                                            body_review   review_date  \n",
              "413   excelent body cream without parabens anti aler...   4 years ago  \n",
              "887                             ideal tool dry dry skin   6 years ago  \n",
              "1513  sensitive skin nature pregnant belly really it...  6 months ago  \n",
              "1293  bought use skin body dry sensitive skin often ...   2 years ago  \n",
              "405                                high quality product   4 years ago  \n",
              "\n",
              "[5 rows x 21 columns]"
            ],
            "text/html": [
              "\n",
              "  <div id=\"df-c4b700f1-fa90-4c4c-be98-b5b5a6c87c75\" class=\"colab-df-container\">\n",
              "    <div>\n",
              "<style scoped>\n",
              "    .dataframe tbody tr th:only-of-type {\n",
              "        vertical-align: middle;\n",
              "    }\n",
              "\n",
              "    .dataframe tbody tr th {\n",
              "        vertical-align: top;\n",
              "    }\n",
              "\n",
              "    .dataframe thead th {\n",
              "        text-align: right;\n",
              "    }\n",
              "</style>\n",
              "<table border=\"1\" class=\"dataframe\">\n",
              "  <thead>\n",
              "    <tr style=\"text-align: right;\">\n",
              "      <th></th>\n",
              "      <th>EAN_code</th>\n",
              "      <th>product_cat</th>\n",
              "      <th>brand</th>\n",
              "      <th>form</th>\n",
              "      <th>price</th>\n",
              "      <th>description</th>\n",
              "      <th>num_review</th>\n",
              "      <th>overall_rate</th>\n",
              "      <th>overall_prod_qual</th>\n",
              "      <th>customer_id</th>\n",
              "      <th>...</th>\n",
              "      <th>gender</th>\n",
              "      <th>customer_loc</th>\n",
              "      <th>cus_rev_num</th>\n",
              "      <th>review_vote</th>\n",
              "      <th>customer_rate</th>\n",
              "      <th>product_qual</th>\n",
              "      <th>recommend</th>\n",
              "      <th>head_review</th>\n",
              "      <th>body_review</th>\n",
              "      <th>review_date</th>\n",
              "    </tr>\n",
              "  </thead>\n",
              "  <tbody>\n",
              "    <tr>\n",
              "      <th>413</th>\n",
              "      <td>3401326306048</td>\n",
              "      <td>Body Moisturisers</td>\n",
              "      <td>Bioderma</td>\n",
              "      <td>Cream</td>\n",
              "      <td>19.9</td>\n",
              "      <td>Bioderma Atoderm Ultra Nourishing Cream 2 x 500ml</td>\n",
              "      <td>507</td>\n",
              "      <td>4.8</td>\n",
              "      <td>4.9</td>\n",
              "      <td>Una T.</td>\n",
              "      <td>...</td>\n",
              "      <td>female</td>\n",
              "      <td>Riga, Latvia</td>\n",
              "      <td>5</td>\n",
              "      <td>0</td>\n",
              "      <td>5</td>\n",
              "      <td>not available</td>\n",
              "      <td>not available</td>\n",
              "      <td>available</td>\n",
              "      <td>excelent body cream without parabens anti aler...</td>\n",
              "      <td>4 years ago</td>\n",
              "    </tr>\n",
              "    <tr>\n",
              "      <th>887</th>\n",
              "      <td>3700281702293</td>\n",
              "      <td>Body Moisturisers</td>\n",
              "      <td>Topicrem</td>\n",
              "      <td>Milk</td>\n",
              "      <td>16.5</td>\n",
              "      <td>Topicrem UH Body Milk 2 x 500ml</td>\n",
              "      <td>295</td>\n",
              "      <td>4.9</td>\n",
              "      <td>4.9</td>\n",
              "      <td>Pleshivtceva O.</td>\n",
              "      <td>...</td>\n",
              "      <td>female</td>\n",
              "      <td>London</td>\n",
              "      <td>4</td>\n",
              "      <td>0</td>\n",
              "      <td>5</td>\n",
              "      <td>not available</td>\n",
              "      <td>not available</td>\n",
              "      <td>available</td>\n",
              "      <td>ideal tool dry dry skin</td>\n",
              "      <td>6 years ago</td>\n",
              "    </tr>\n",
              "    <tr>\n",
              "      <th>1513</th>\n",
              "      <td>3661434006968</td>\n",
              "      <td>Body Soothing Products</td>\n",
              "      <td>Uriage</td>\n",
              "      <td>Balm</td>\n",
              "      <td>18.9</td>\n",
              "      <td>Uriage Xémose Anti-Itch Soothing Oil Balm 500ml</td>\n",
              "      <td>2</td>\n",
              "      <td>5.0</td>\n",
              "      <td>5.0</td>\n",
              "      <td>Emilie</td>\n",
              "      <td>...</td>\n",
              "      <td>female</td>\n",
              "      <td>Toronto</td>\n",
              "      <td>1</td>\n",
              "      <td>0</td>\n",
              "      <td>5</td>\n",
              "      <td>5</td>\n",
              "      <td>yes</td>\n",
              "      <td>good</td>\n",
              "      <td>sensitive skin nature pregnant belly really it...</td>\n",
              "      <td>6 months ago</td>\n",
              "    </tr>\n",
              "    <tr>\n",
              "      <th>1293</th>\n",
              "      <td>3264680009761</td>\n",
              "      <td>Body Dry Oils</td>\n",
              "      <td>Nuxe</td>\n",
              "      <td>Oil</td>\n",
              "      <td>12.3</td>\n",
              "      <td>Nuxe Huile Prodigieuse Multi-Purpose Dry Oil 50ml</td>\n",
              "      <td>27</td>\n",
              "      <td>4.9</td>\n",
              "      <td>4.8</td>\n",
              "      <td>Waterhouse S.</td>\n",
              "      <td>...</td>\n",
              "      <td>female</td>\n",
              "      <td>indonesia</td>\n",
              "      <td>2</td>\n",
              "      <td>4</td>\n",
              "      <td>5</td>\n",
              "      <td>not available</td>\n",
              "      <td>not available</td>\n",
              "      <td>available</td>\n",
              "      <td>bought use skin body dry sensitive skin often ...</td>\n",
              "      <td>2 years ago</td>\n",
              "    </tr>\n",
              "    <tr>\n",
              "      <th>405</th>\n",
              "      <td>3401326306048</td>\n",
              "      <td>Body Moisturisers</td>\n",
              "      <td>Bioderma</td>\n",
              "      <td>Cream</td>\n",
              "      <td>19.9</td>\n",
              "      <td>Bioderma Atoderm Ultra Nourishing Cream 2 x 500ml</td>\n",
              "      <td>507</td>\n",
              "      <td>4.8</td>\n",
              "      <td>4.9</td>\n",
              "      <td>Joka Brkljacic V.</td>\n",
              "      <td>...</td>\n",
              "      <td>female</td>\n",
              "      <td>indonesia</td>\n",
              "      <td>1</td>\n",
              "      <td>0</td>\n",
              "      <td>5</td>\n",
              "      <td>not available</td>\n",
              "      <td>not available</td>\n",
              "      <td>available</td>\n",
              "      <td>high quality product</td>\n",
              "      <td>4 years ago</td>\n",
              "    </tr>\n",
              "  </tbody>\n",
              "</table>\n",
              "<p>5 rows × 21 columns</p>\n",
              "</div>\n",
              "    <div class=\"colab-df-buttons\">\n",
              "\n",
              "  <div class=\"colab-df-container\">\n",
              "    <button class=\"colab-df-convert\" onclick=\"convertToInteractive('df-c4b700f1-fa90-4c4c-be98-b5b5a6c87c75')\"\n",
              "            title=\"Convert this dataframe to an interactive table.\"\n",
              "            style=\"display:none;\">\n",
              "\n",
              "  <svg xmlns=\"http://www.w3.org/2000/svg\" height=\"24px\" viewBox=\"0 -960 960 960\">\n",
              "    <path d=\"M120-120v-720h720v720H120Zm60-500h600v-160H180v160Zm220 220h160v-160H400v160Zm0 220h160v-160H400v160ZM180-400h160v-160H180v160Zm440 0h160v-160H620v160ZM180-180h160v-160H180v160Zm440 0h160v-160H620v160Z\"/>\n",
              "  </svg>\n",
              "    </button>\n",
              "\n",
              "  <style>\n",
              "    .colab-df-container {\n",
              "      display:flex;\n",
              "      gap: 12px;\n",
              "    }\n",
              "\n",
              "    .colab-df-convert {\n",
              "      background-color: #E8F0FE;\n",
              "      border: none;\n",
              "      border-radius: 50%;\n",
              "      cursor: pointer;\n",
              "      display: none;\n",
              "      fill: #1967D2;\n",
              "      height: 32px;\n",
              "      padding: 0 0 0 0;\n",
              "      width: 32px;\n",
              "    }\n",
              "\n",
              "    .colab-df-convert:hover {\n",
              "      background-color: #E2EBFA;\n",
              "      box-shadow: 0px 1px 2px rgba(60, 64, 67, 0.3), 0px 1px 3px 1px rgba(60, 64, 67, 0.15);\n",
              "      fill: #174EA6;\n",
              "    }\n",
              "\n",
              "    .colab-df-buttons div {\n",
              "      margin-bottom: 4px;\n",
              "    }\n",
              "\n",
              "    [theme=dark] .colab-df-convert {\n",
              "      background-color: #3B4455;\n",
              "      fill: #D2E3FC;\n",
              "    }\n",
              "\n",
              "    [theme=dark] .colab-df-convert:hover {\n",
              "      background-color: #434B5C;\n",
              "      box-shadow: 0px 1px 3px 1px rgba(0, 0, 0, 0.15);\n",
              "      filter: drop-shadow(0px 1px 2px rgba(0, 0, 0, 0.3));\n",
              "      fill: #FFFFFF;\n",
              "    }\n",
              "  </style>\n",
              "\n",
              "    <script>\n",
              "      const buttonEl =\n",
              "        document.querySelector('#df-c4b700f1-fa90-4c4c-be98-b5b5a6c87c75 button.colab-df-convert');\n",
              "      buttonEl.style.display =\n",
              "        google.colab.kernel.accessAllowed ? 'block' : 'none';\n",
              "\n",
              "      async function convertToInteractive(key) {\n",
              "        const element = document.querySelector('#df-c4b700f1-fa90-4c4c-be98-b5b5a6c87c75');\n",
              "        const dataTable =\n",
              "          await google.colab.kernel.invokeFunction('convertToInteractive',\n",
              "                                                    [key], {});\n",
              "        if (!dataTable) return;\n",
              "\n",
              "        const docLinkHtml = 'Like what you see? Visit the ' +\n",
              "          '<a target=\"_blank\" href=https://colab.research.google.com/notebooks/data_table.ipynb>data table notebook</a>'\n",
              "          + ' to learn more about interactive tables.';\n",
              "        element.innerHTML = '';\n",
              "        dataTable['output_type'] = 'display_data';\n",
              "        await google.colab.output.renderOutput(dataTable, element);\n",
              "        const docLink = document.createElement('div');\n",
              "        docLink.innerHTML = docLinkHtml;\n",
              "        element.appendChild(docLink);\n",
              "      }\n",
              "    </script>\n",
              "  </div>\n",
              "\n",
              "\n",
              "<div id=\"df-026279fb-1b5d-47d1-8c3f-5e9203ff9ee7\">\n",
              "  <button class=\"colab-df-quickchart\" onclick=\"quickchart('df-026279fb-1b5d-47d1-8c3f-5e9203ff9ee7')\"\n",
              "            title=\"Suggest charts\"\n",
              "            style=\"display:none;\">\n",
              "\n",
              "<svg xmlns=\"http://www.w3.org/2000/svg\" height=\"24px\"viewBox=\"0 0 24 24\"\n",
              "     width=\"24px\">\n",
              "    <g>\n",
              "        <path d=\"M19 3H5c-1.1 0-2 .9-2 2v14c0 1.1.9 2 2 2h14c1.1 0 2-.9 2-2V5c0-1.1-.9-2-2-2zM9 17H7v-7h2v7zm4 0h-2V7h2v10zm4 0h-2v-4h2v4z\"/>\n",
              "    </g>\n",
              "</svg>\n",
              "  </button>\n",
              "\n",
              "<style>\n",
              "  .colab-df-quickchart {\n",
              "      --bg-color: #E8F0FE;\n",
              "      --fill-color: #1967D2;\n",
              "      --hover-bg-color: #E2EBFA;\n",
              "      --hover-fill-color: #174EA6;\n",
              "      --disabled-fill-color: #AAA;\n",
              "      --disabled-bg-color: #DDD;\n",
              "  }\n",
              "\n",
              "  [theme=dark] .colab-df-quickchart {\n",
              "      --bg-color: #3B4455;\n",
              "      --fill-color: #D2E3FC;\n",
              "      --hover-bg-color: #434B5C;\n",
              "      --hover-fill-color: #FFFFFF;\n",
              "      --disabled-bg-color: #3B4455;\n",
              "      --disabled-fill-color: #666;\n",
              "  }\n",
              "\n",
              "  .colab-df-quickchart {\n",
              "    background-color: var(--bg-color);\n",
              "    border: none;\n",
              "    border-radius: 50%;\n",
              "    cursor: pointer;\n",
              "    display: none;\n",
              "    fill: var(--fill-color);\n",
              "    height: 32px;\n",
              "    padding: 0;\n",
              "    width: 32px;\n",
              "  }\n",
              "\n",
              "  .colab-df-quickchart:hover {\n",
              "    background-color: var(--hover-bg-color);\n",
              "    box-shadow: 0 1px 2px rgba(60, 64, 67, 0.3), 0 1px 3px 1px rgba(60, 64, 67, 0.15);\n",
              "    fill: var(--button-hover-fill-color);\n",
              "  }\n",
              "\n",
              "  .colab-df-quickchart-complete:disabled,\n",
              "  .colab-df-quickchart-complete:disabled:hover {\n",
              "    background-color: var(--disabled-bg-color);\n",
              "    fill: var(--disabled-fill-color);\n",
              "    box-shadow: none;\n",
              "  }\n",
              "\n",
              "  .colab-df-spinner {\n",
              "    border: 2px solid var(--fill-color);\n",
              "    border-color: transparent;\n",
              "    border-bottom-color: var(--fill-color);\n",
              "    animation:\n",
              "      spin 1s steps(1) infinite;\n",
              "  }\n",
              "\n",
              "  @keyframes spin {\n",
              "    0% {\n",
              "      border-color: transparent;\n",
              "      border-bottom-color: var(--fill-color);\n",
              "      border-left-color: var(--fill-color);\n",
              "    }\n",
              "    20% {\n",
              "      border-color: transparent;\n",
              "      border-left-color: var(--fill-color);\n",
              "      border-top-color: var(--fill-color);\n",
              "    }\n",
              "    30% {\n",
              "      border-color: transparent;\n",
              "      border-left-color: var(--fill-color);\n",
              "      border-top-color: var(--fill-color);\n",
              "      border-right-color: var(--fill-color);\n",
              "    }\n",
              "    40% {\n",
              "      border-color: transparent;\n",
              "      border-right-color: var(--fill-color);\n",
              "      border-top-color: var(--fill-color);\n",
              "    }\n",
              "    60% {\n",
              "      border-color: transparent;\n",
              "      border-right-color: var(--fill-color);\n",
              "    }\n",
              "    80% {\n",
              "      border-color: transparent;\n",
              "      border-right-color: var(--fill-color);\n",
              "      border-bottom-color: var(--fill-color);\n",
              "    }\n",
              "    90% {\n",
              "      border-color: transparent;\n",
              "      border-bottom-color: var(--fill-color);\n",
              "    }\n",
              "  }\n",
              "</style>\n",
              "\n",
              "  <script>\n",
              "    async function quickchart(key) {\n",
              "      const quickchartButtonEl =\n",
              "        document.querySelector('#' + key + ' button');\n",
              "      quickchartButtonEl.disabled = true;  // To prevent multiple clicks.\n",
              "      quickchartButtonEl.classList.add('colab-df-spinner');\n",
              "      try {\n",
              "        const charts = await google.colab.kernel.invokeFunction(\n",
              "            'suggestCharts', [key], {});\n",
              "      } catch (error) {\n",
              "        console.error('Error during call to suggestCharts:', error);\n",
              "      }\n",
              "      quickchartButtonEl.classList.remove('colab-df-spinner');\n",
              "      quickchartButtonEl.classList.add('colab-df-quickchart-complete');\n",
              "    }\n",
              "    (() => {\n",
              "      let quickchartButtonEl =\n",
              "        document.querySelector('#df-026279fb-1b5d-47d1-8c3f-5e9203ff9ee7 button');\n",
              "      quickchartButtonEl.style.display =\n",
              "        google.colab.kernel.accessAllowed ? 'block' : 'none';\n",
              "    })();\n",
              "  </script>\n",
              "</div>\n",
              "    </div>\n",
              "  </div>\n"
            ]
          },
          "metadata": {},
          "execution_count": 4
        }
      ]
    },
    {
      "cell_type": "code",
      "source": [
        "# Simple data checking\n",
        "df.info()"
      ],
      "metadata": {
        "colab": {
          "base_uri": "https://localhost:8080/"
        },
        "id": "r7s1Y5hHxYP7",
        "outputId": "2572b99b-e1dd-44c3-ea4e-cbf162091203"
      },
      "execution_count": null,
      "outputs": [
        {
          "output_type": "stream",
          "name": "stdout",
          "text": [
            "<class 'pandas.core.frame.DataFrame'>\n",
            "RangeIndex: 1539 entries, 0 to 1538\n",
            "Data columns (total 21 columns):\n",
            " #   Column             Non-Null Count  Dtype  \n",
            "---  ------             --------------  -----  \n",
            " 0   EAN_code           1539 non-null   int64  \n",
            " 1   product_cat        1539 non-null   object \n",
            " 2   brand              1539 non-null   object \n",
            " 3   form               1539 non-null   object \n",
            " 4   price              1539 non-null   float64\n",
            " 5   description        1539 non-null   object \n",
            " 6   num_review         1539 non-null   int64  \n",
            " 7   overall_rate       1539 non-null   float64\n",
            " 8   overall_prod_qual  1539 non-null   object \n",
            " 9   customer_id        1539 non-null   object \n",
            " 10  age_group          1539 non-null   object \n",
            " 11  gender             1539 non-null   object \n",
            " 12  customer_loc       1539 non-null   object \n",
            " 13  cus_rev_num        1539 non-null   int64  \n",
            " 14  review_vote        1539 non-null   int64  \n",
            " 15  customer_rate      1539 non-null   int64  \n",
            " 16  product_qual       1539 non-null   object \n",
            " 17  recommend          1539 non-null   object \n",
            " 18  head_review        1539 non-null   object \n",
            " 19  body_review        1539 non-null   object \n",
            " 20  review_date        1539 non-null   object \n",
            "dtypes: float64(2), int64(5), object(14)\n",
            "memory usage: 252.6+ KB\n"
          ]
        }
      ]
    },
    {
      "cell_type": "markdown",
      "source": [
        "*In the data, there are 22 columns and 1539 rows. There are no missing values.*"
      ],
      "metadata": {
        "id": "4PgLsE1MxmGO"
      }
    },
    {
      "cell_type": "code",
      "source": [
        "# check missing values\n",
        "df.isna().sum()"
      ],
      "metadata": {
        "colab": {
          "base_uri": "https://localhost:8080/"
        },
        "id": "zP7liORhxm_Z",
        "outputId": "c9514750-b328-4162-f6b8-61b540af3d34"
      },
      "execution_count": null,
      "outputs": [
        {
          "output_type": "execute_result",
          "data": {
            "text/plain": [
              "EAN_code             0\n",
              "product_cat          0\n",
              "brand                0\n",
              "form                 0\n",
              "price                0\n",
              "description          0\n",
              "num_review           0\n",
              "overall_rate         0\n",
              "overall_prod_qual    0\n",
              "customer_id          0\n",
              "age_group            0\n",
              "gender               0\n",
              "customer_loc         0\n",
              "cus_rev_num          0\n",
              "review_vote          0\n",
              "customer_rate        0\n",
              "product_qual         0\n",
              "recommend            0\n",
              "head_review          0\n",
              "body_review          0\n",
              "review_date          0\n",
              "dtype: int64"
            ]
          },
          "metadata": {},
          "execution_count": 6
        }
      ]
    },
    {
      "cell_type": "markdown",
      "source": [
        "## 2. Duplicated Value Check and Handling"
      ],
      "metadata": {
        "id": "obpW4kBHyAfJ"
      }
    },
    {
      "cell_type": "markdown",
      "source": [
        "*The step of checking for duplicates or removing duplicates is skipped because the available data lacks a primary key or unique column that can be used as a reference to identify duplicate, and continued with removing unnecessary columns.*"
      ],
      "metadata": {
        "id": "zi8x758SyEdg"
      }
    },
    {
      "cell_type": "code",
      "source": [
        "#remove unnecessary columns\n",
        "unnecessary_columns = ['description', 'num_review', 'overall_prod_qual', 'customer_id','cus_rev_num', 'review_vote','customer_rate',\n",
        "                       'product_qual','recommend', 'head_review', 'body_review', 'review_date']\n",
        "df = df.drop(unnecessary_columns, axis=1)"
      ],
      "metadata": {
        "id": "tl9NdKZryyLO"
      },
      "execution_count": null,
      "outputs": []
    },
    {
      "cell_type": "code",
      "source": [
        "#data checking\n",
        "df.info()"
      ],
      "metadata": {
        "colab": {
          "base_uri": "https://localhost:8080/"
        },
        "id": "vpZcfxcY0QlM",
        "outputId": "b72ee5e9-8b39-429e-d67f-5a80446743fb"
      },
      "execution_count": null,
      "outputs": [
        {
          "output_type": "stream",
          "name": "stdout",
          "text": [
            "<class 'pandas.core.frame.DataFrame'>\n",
            "RangeIndex: 1539 entries, 0 to 1538\n",
            "Data columns (total 9 columns):\n",
            " #   Column        Non-Null Count  Dtype  \n",
            "---  ------        --------------  -----  \n",
            " 0   EAN_code      1539 non-null   int64  \n",
            " 1   product_cat   1539 non-null   object \n",
            " 2   brand         1539 non-null   object \n",
            " 3   form          1539 non-null   object \n",
            " 4   price         1539 non-null   float64\n",
            " 5   overall_rate  1539 non-null   float64\n",
            " 6   age_group     1539 non-null   object \n",
            " 7   gender        1539 non-null   object \n",
            " 8   customer_loc  1539 non-null   object \n",
            "dtypes: float64(2), int64(1), object(6)\n",
            "memory usage: 108.3+ KB\n"
          ]
        }
      ]
    },
    {
      "cell_type": "markdown",
      "source": [
        "## 3. Inconsistent Casing Check and Handling"
      ],
      "metadata": {
        "id": "P-FZnAF-0tI5"
      }
    },
    {
      "cell_type": "code",
      "source": [
        "# print Number of categories in 'customer_loc' column\n",
        "numb_of_ctg = df['customer_loc'].nunique()\n",
        "print(\"\\nNumber of categories in 'customer_loc' column:\", numb_of_ctg)\n",
        "\n",
        "# print List of categories in 'customer_loc' column\n",
        "list_of_ctg = df['customer_loc'].unique()\n",
        "print(\"\\nList of categories in 'customer_loc' column:\", list_of_ctg)"
      ],
      "metadata": {
        "colab": {
          "base_uri": "https://localhost:8080/"
        },
        "id": "zB9jb09n0zAi",
        "outputId": "86155f0f-2890-4328-fcf9-382da40a9f2d"
      },
      "execution_count": null,
      "outputs": [
        {
          "output_type": "stream",
          "name": "stdout",
          "text": [
            "\n",
            "Number of categories in 'customer_loc' column: 196\n",
            "\n",
            "List of categories in 'customer_loc' column: ['  SAUDI ARABIA  ' '  Saudi Arabia  ' '  Riga, Latvia  ' '  UK  '\n",
            " '  Bahrain  ' '  Kingston  ' '  Oman  ' '  Newcastle  ' '  London  '\n",
            " '  Omireen  ' '  Saudi arabia riyadh  ' '  UAE  ' '  riyadh  '\n",
            " '  Coventry uk  ' '  Saudia  ' '  Saudi Arabia - Medina  '\n",
            " '  Riyadh, Saudi Arabia  ' '  KSA  ' '  Newcastle upon Tyne  ' '  SA  '\n",
            " '  Ksa  ' '  EU  ' '  Saudi arabi  ' '  ksa Riyadh  ' '  ksa  '\n",
            " '  Saudi - Madina  ' '  Southampton  ' '  Birmingham, West Midlands  '\n",
            " '  Kent  ' '  SAUDIA ARIBIA  ' '  United Arab Emirates  '\n",
            " '  KSA Middle East  ' '  Lebao  ' '  Riyadh  ' '  saudi arabia  '\n",
            " '  Awali  ' '  Saudi  ' '  Tilbury, Essex  ' '  The kingdom  '\n",
            " '  Kingdom of Saudi Arabia  ' '  Dartmoor  ' '  SAUDIA ARABIA  '\n",
            " '  GLASGOW  ' '  Saudi-Arabia  ' '  Hertfordshire  ' '  Colorado, USA  '\n",
            " '  London ,Feltham  ' '  Stoke on Trent  ' '  Hail, Saudi Arabia  '\n",
            " '  Eesti  ' '  Saudi arabia  ' '  Ukraine  ' '  Estonia  ' 'indonesia'\n",
            " '  Latvia  ' '  Riyadh, S. A.  ' '  riyadh, saudi arabia  '\n",
            " '  Cotswolds  ' '  bahrain  ' '  Ash md  ' '  Riyadh , SAUDI ARABIA  '\n",
            " '  Middle East  ' '  essex  ' '  Ahssa  ' '  weybridge  ' '  Surrey  '\n",
            " '  Taif  ' '  Ashford, Kent  ' '  South East  ' '  الشرقية  '\n",
            " '  Margate, Kent south east uk  ' '  Leeds  ' '  Kent England  '\n",
            " '  Croatia  ' '  Armenia  ' '  Sweden Stockholm  ' '  Luton  '\n",
            " '  USA Washington  ' '  United Kingdom  ' '  السعودية  ' '  Texas, USA  '\n",
            " '  Gloucester  ' '  Milton Keynes  ' '  Qatar  '\n",
            " '  Teesside, Stockton-On-Tees, UK  ' '  Brighton  ' '  Hastings  '\n",
            " '  Uk  ' '  East of England  ' '  London o  ' '  CHESHIRE  '\n",
            " '  Nuneaton  ' '  Leicester  ' '  Glasgow  ' '  Harrow London  '\n",
            " '  thailand  ' '  Dublin  ' '  frank  ' '  Kuwait  ' '  Muscat  '\n",
            " '  Northampton  ' '  edinburgh  ' '  Lancashire, ACCRINGTON  '\n",
            " '  السعوديه  ' '  Chester  ' '  Glasgow, Scotland  ' '  Bolton, UK  '\n",
            " '  Saudi Arabis  ' '  London Heathrow  ' '  Essex  '\n",
            " '  Gloucestershire  ' '  Cork  ' '  LV  ' '  Stretton UK  '\n",
            " '  sydney, Australia  ' '  saudi ariba  ' '  Manchester  '\n",
            " '  Lancashire  ' '  Portsmouth, England  ' '  North  ' '  Cardiff  '\n",
            " '  Devon  ' '  Macedonia  ' '  Lithuania  ' '  Derby, East Midlands  '\n",
            " '  BesH  ' '  Serbia  ' '  Northampton, England  ' '  Sale, Cheshire  '\n",
            " '  Chester, Cheshire  ' '  jeddah saudi arabia  ' '  Wellingborough  '\n",
            " '  Dundee Scotland  ' '  Oxford  ' '  Selby  ' '  Tokyo  ' '  GB  '\n",
            " '  Burgess Hill  ' '  Israel  ' '  SAUDIA  ' '  United kingdom  '\n",
            " '  Staffordshire Moorland  ' '  Malaysia  ' '  Newcastle under lyme  '\n",
            " '  West Midlands  ' '  Morecambe  ' '  Mitcham  ' '  Stafford  '\n",
            " '  Ashchurch  ' '  WEST LOTHIAN  ' '  St. Austell  ' '  Honley  '\n",
            " '  High Wycombe  ' '  Colchester  ' '  Alfreton  ' '  Hartlepool  '\n",
            " '  Dunbar  ' '  Rainham  ' '  Harlow  ' '  Wolverhampton  ' '  Bolton  '\n",
            " '  KETTERING  ' '  Blackmoor, Liss  ' '  Winterslow  ' '  HARTLEPOOL  '\n",
            " '  Bridlington  ' '  GERRARDS CROSS  ' '  Dagenham  ' '  Wantage  '\n",
            " '  Peterborough  ' '  Rookley  ' '  COLCHESTER  ' '  Port Glasgow  '\n",
            " '  BRISTOL  ' '  Stockton-on-tees  ' '  Donaghadee  ' '  Carterton  '\n",
            " '  Liverpool  ' '  Water Orton  ' '  Jeddah  ' '  RIYADH  '\n",
            " '  cambridge  ' '  San Francisco  ' '  Hongkong  ' '  Egham , Surrey  '\n",
            " '  Thailand  ' '  Saudi Arabia - Jeddah  ' '  Taiwan  ' '  Hong Kong  '\n",
            " '  Dubai  ' '  Bristol  ' '  Cork, Ireland  ' '  Toronto  '\n",
            " '  Abu dhabi  ' '  Welsh border  ' '  Stockport  ']\n"
          ]
        }
      ]
    },
    {
      "cell_type": "code",
      "source": [
        "# Convert to lowercase and remove extra spaces\n",
        "df['customer_loc'] = df['customer_loc'].str.lower().str.strip()"
      ],
      "metadata": {
        "id": "BGWKHLRE3_o8"
      },
      "execution_count": null,
      "outputs": []
    },
    {
      "cell_type": "code",
      "source": [
        "# Sorting and obtaining a list of unique categories alphabetically.\n",
        "list_customer_loc = df['customer_loc'].sort_values().unique().tolist()\n",
        "\n",
        "# Displaying a list of categories alphabetically.\n",
        "print(\"List of Customer Locations Alphabetically.:\")\n",
        "print(list_customer_loc)"
      ],
      "metadata": {
        "colab": {
          "base_uri": "https://localhost:8080/"
        },
        "id": "uJEdoQtD5aXL",
        "outputId": "c75727d4-bffb-4ced-e247-bd1611241b32"
      },
      "execution_count": null,
      "outputs": [
        {
          "output_type": "stream",
          "name": "stdout",
          "text": [
            "List of Customer Locations Alphabetically.:\n",
            "['abu dhabi', 'ahssa', 'alfreton', 'armenia', 'ash md', 'ashchurch', 'ashford, kent', 'awali', 'bahrain', 'besh', 'birmingham, west midlands', 'blackmoor, liss', 'bolton', 'bolton, uk', 'bridlington', 'brighton', 'bristol', 'burgess hill', 'cambridge', 'cardiff', 'carterton', 'cheshire', 'chester', 'chester, cheshire', 'colchester', 'colorado, usa', 'cork', 'cork, ireland', 'cotswolds', 'coventry uk', 'croatia', 'dagenham', 'dartmoor', 'derby, east midlands', 'devon', 'donaghadee', 'dubai', 'dublin', 'dunbar', 'dundee scotland', 'east of england', 'edinburgh', 'eesti', 'egham , surrey', 'essex', 'estonia', 'eu', 'frank', 'gb', 'gerrards cross', 'glasgow', 'glasgow, scotland', 'gloucester', 'gloucestershire', 'hail, saudi arabia', 'harlow', 'harrow london', 'hartlepool', 'hastings', 'hertfordshire', 'high wycombe', 'hong kong', 'hongkong', 'honley', 'indonesia', 'israel', 'jeddah', 'jeddah saudi arabia', 'kent', 'kent england', 'kettering', 'kingdom of saudi arabia', 'kingston', 'ksa', 'ksa middle east', 'ksa riyadh', 'kuwait', 'lancashire', 'lancashire, accrington', 'latvia', 'lebao', 'leeds', 'leicester', 'lithuania', 'liverpool', 'london', 'london ,feltham', 'london heathrow', 'london o', 'luton', 'lv', 'macedonia', 'malaysia', 'manchester', 'margate, kent south east uk', 'middle east', 'milton keynes', 'mitcham', 'morecambe', 'muscat', 'newcastle', 'newcastle under lyme', 'newcastle upon tyne', 'north', 'northampton', 'northampton, england', 'nuneaton', 'oman', 'omireen', 'oxford', 'peterborough', 'port glasgow', 'portsmouth, england', 'qatar', 'rainham', 'riga, latvia', 'riyadh', 'riyadh , saudi arabia', 'riyadh, s. a.', 'riyadh, saudi arabia', 'rookley', 'sa', 'sale, cheshire', 'san francisco', 'saudi', 'saudi - madina', 'saudi arabi', 'saudi arabia', 'saudi arabia - jeddah', 'saudi arabia - medina', 'saudi arabia riyadh', 'saudi arabis', 'saudi ariba', 'saudi-arabia', 'saudia', 'saudia arabia', 'saudia aribia', 'selby', 'serbia', 'south east', 'southampton', 'st. austell', 'stafford', 'staffordshire moorland', 'stockport', 'stockton-on-tees', 'stoke on trent', 'stretton uk', 'surrey', 'sweden stockholm', 'sydney, australia', 'taif', 'taiwan', 'teesside, stockton-on-tees, uk', 'texas, usa', 'thailand', 'the kingdom', 'tilbury, essex', 'tokyo', 'toronto', 'uae', 'uk', 'ukraine', 'united arab emirates', 'united kingdom', 'usa washington', 'wantage', 'water orton', 'wellingborough', 'welsh border', 'west lothian', 'west midlands', 'weybridge', 'winterslow', 'wolverhampton', 'السعودية', 'السعوديه', 'الشرقية']\n"
          ]
        }
      ]
    },
    {
      "cell_type": "code",
      "source": [
        "# Creating a dictionary for mapping replacement\n",
        "category_mapping = {\n",
        "    'bolton, uk': 'bolton',\n",
        "    'chester': 'chesire',\n",
        "    'chester, cheshire': 'chesire',\n",
        "    'cork, ireland': 'cork',\n",
        "    'uae' : 'united arab emirates',\n",
        "    'sa': 'saudi arabia',\n",
        "    'london ok': 'london',\n",
        "    'gb': 'london',\n",
        "    'uk': 'london',\n",
        "    'united kingdom' : 'london',\n",
        "    'london ,feltham' : 'london',\n",
        "    'السعودية' : 'saudi arabia',\n",
        "    'السعوديه': 'saudi arabia',\n",
        "    'الشرقية' : 'saudi arabia',\n",
        "    'london heathrow' : 'london',\n",
        "    'london o' : 'london',\n",
        "    'margate, kent south east uk' : 'london',\n",
        "    'glasgow, scotland' : 'glasgow',\n",
        "    'saudia' : 'saudi arabia',\n",
        "    'saudia arabia' : 'saudi arabia',\n",
        "    'saudia aribia' : 'saudi arabia',\n",
        "    'the kingdom' : 'london',\n",
        "    'saudi' : 'saudi arabia',\n",
        "    'saudi - madina' : 'saudi arabia',\n",
        "    'saudi arabi' : 'saudi arabia',\n",
        "    'saudi arabia - jeddah' : 'saudi arabia',\n",
        "    'saudi arabia - medina' :'saudi arabia',\n",
        "    'saudi arabia riyadh' : 'saudi arabia',\n",
        "    'saudi arabis' : 'saudi arabia',\n",
        "    'saudi ariba' : 'saudi arabia',\n",
        "    'saudi-arabia' : 'saudi arabia',\n",
        "    'riyadh' : 'saudi arabia',\n",
        "    'riyadh , saudi arabia' : 'saudi arabia',\n",
        "    'riyadh, s. a.' : 'saudi arabia',\n",
        "    'riyadh, saudi arabia' : 'saudi arabia',\n",
        "    'sa' :'saudi arabia',\n",
        "    'hail, saudi arabia' : 'saudi arabia',\n",
        "    'jeddah saudi arabia' : 'saudi arabia',\n",
        "    'kingdom of saudi arabia' : 'saudi arabia',\n",
        "    'ksa' : 'saudi arabia',\n",
        "    'ksa middle east' : 'saudi arabia',\n",
        "    'ksa riyadh' : 'saudi arabia',\n",
        "    'hong kong' : 'hongkong',\n",
        "    'jeddah' : 'saudi arabia',\n",
        "    'kent' : 'london',\n",
        "    'kent england' : 'london',\n",
        "    'lancashire, accrington': 'lancashire',\n",
        "    'port glasgow' :'glasgow'}\n",
        "\n",
        "# Using replace with the mapping dictionary\n",
        "df['customer_loc'] = df['customer_loc'].replace(category_mapping)"
      ],
      "metadata": {
        "id": "bNIrf1zj4-8y"
      },
      "execution_count": null,
      "outputs": []
    },
    {
      "cell_type": "code",
      "source": [
        "# print Number of categories in 'customer_loc' column\n",
        "numb_of_ctg = df['customer_loc'].nunique()\n",
        "print(\"\\nNumber of categories in 'customer_loc' column:\", numb_of_ctg)"
      ],
      "metadata": {
        "colab": {
          "base_uri": "https://localhost:8080/"
        },
        "id": "4NAxAYdvCX3o",
        "outputId": "fa5a9cec-a2dc-48e0-b91e-fd08ee554917"
      },
      "execution_count": null,
      "outputs": [
        {
          "output_type": "stream",
          "name": "stdout",
          "text": [
            "\n",
            "Number of categories in 'customer_loc' column: 133\n"
          ]
        }
      ]
    },
    {
      "cell_type": "markdown",
      "source": [
        "## 4. Statistical Summaries of Columns"
      ],
      "metadata": {
        "id": "ygGvXylwCjjK"
      }
    },
    {
      "cell_type": "code",
      "source": [
        "# Grouping columns by data category\n",
        "categoricals = ['product_cat', 'brand', 'form', 'age_group','gender', 'customer_loc']\n",
        "numericals = ['price', 'overall_rate']"
      ],
      "metadata": {
        "id": "tF1fWe3JCl9N"
      },
      "execution_count": null,
      "outputs": []
    },
    {
      "cell_type": "code",
      "source": [
        "# numerical statistical summary\n",
        "df[numericals].describe()"
      ],
      "metadata": {
        "colab": {
          "base_uri": "https://localhost:8080/",
          "height": 300
        },
        "id": "CH9qZv29DGNj",
        "outputId": "4eebcab2-aa7f-4ba6-a1b2-107783346952"
      },
      "execution_count": null,
      "outputs": [
        {
          "output_type": "execute_result",
          "data": {
            "text/plain": [
              "             price  overall_rate\n",
              "count  1539.000000   1539.000000\n",
              "mean     16.993379      4.770760\n",
              "std       4.677627      0.194602\n",
              "min       3.200000      2.800000\n",
              "25%      14.500000      4.800000\n",
              "50%      16.500000      4.800000\n",
              "75%      19.900000      4.900000\n",
              "max      34.500000      5.000000"
            ],
            "text/html": [
              "\n",
              "  <div id=\"df-ca4e4a75-804a-4cf9-abbe-0ae3eb406a4d\" class=\"colab-df-container\">\n",
              "    <div>\n",
              "<style scoped>\n",
              "    .dataframe tbody tr th:only-of-type {\n",
              "        vertical-align: middle;\n",
              "    }\n",
              "\n",
              "    .dataframe tbody tr th {\n",
              "        vertical-align: top;\n",
              "    }\n",
              "\n",
              "    .dataframe thead th {\n",
              "        text-align: right;\n",
              "    }\n",
              "</style>\n",
              "<table border=\"1\" class=\"dataframe\">\n",
              "  <thead>\n",
              "    <tr style=\"text-align: right;\">\n",
              "      <th></th>\n",
              "      <th>price</th>\n",
              "      <th>overall_rate</th>\n",
              "    </tr>\n",
              "  </thead>\n",
              "  <tbody>\n",
              "    <tr>\n",
              "      <th>count</th>\n",
              "      <td>1539.000000</td>\n",
              "      <td>1539.000000</td>\n",
              "    </tr>\n",
              "    <tr>\n",
              "      <th>mean</th>\n",
              "      <td>16.993379</td>\n",
              "      <td>4.770760</td>\n",
              "    </tr>\n",
              "    <tr>\n",
              "      <th>std</th>\n",
              "      <td>4.677627</td>\n",
              "      <td>0.194602</td>\n",
              "    </tr>\n",
              "    <tr>\n",
              "      <th>min</th>\n",
              "      <td>3.200000</td>\n",
              "      <td>2.800000</td>\n",
              "    </tr>\n",
              "    <tr>\n",
              "      <th>25%</th>\n",
              "      <td>14.500000</td>\n",
              "      <td>4.800000</td>\n",
              "    </tr>\n",
              "    <tr>\n",
              "      <th>50%</th>\n",
              "      <td>16.500000</td>\n",
              "      <td>4.800000</td>\n",
              "    </tr>\n",
              "    <tr>\n",
              "      <th>75%</th>\n",
              "      <td>19.900000</td>\n",
              "      <td>4.900000</td>\n",
              "    </tr>\n",
              "    <tr>\n",
              "      <th>max</th>\n",
              "      <td>34.500000</td>\n",
              "      <td>5.000000</td>\n",
              "    </tr>\n",
              "  </tbody>\n",
              "</table>\n",
              "</div>\n",
              "    <div class=\"colab-df-buttons\">\n",
              "\n",
              "  <div class=\"colab-df-container\">\n",
              "    <button class=\"colab-df-convert\" onclick=\"convertToInteractive('df-ca4e4a75-804a-4cf9-abbe-0ae3eb406a4d')\"\n",
              "            title=\"Convert this dataframe to an interactive table.\"\n",
              "            style=\"display:none;\">\n",
              "\n",
              "  <svg xmlns=\"http://www.w3.org/2000/svg\" height=\"24px\" viewBox=\"0 -960 960 960\">\n",
              "    <path d=\"M120-120v-720h720v720H120Zm60-500h600v-160H180v160Zm220 220h160v-160H400v160Zm0 220h160v-160H400v160ZM180-400h160v-160H180v160Zm440 0h160v-160H620v160ZM180-180h160v-160H180v160Zm440 0h160v-160H620v160Z\"/>\n",
              "  </svg>\n",
              "    </button>\n",
              "\n",
              "  <style>\n",
              "    .colab-df-container {\n",
              "      display:flex;\n",
              "      gap: 12px;\n",
              "    }\n",
              "\n",
              "    .colab-df-convert {\n",
              "      background-color: #E8F0FE;\n",
              "      border: none;\n",
              "      border-radius: 50%;\n",
              "      cursor: pointer;\n",
              "      display: none;\n",
              "      fill: #1967D2;\n",
              "      height: 32px;\n",
              "      padding: 0 0 0 0;\n",
              "      width: 32px;\n",
              "    }\n",
              "\n",
              "    .colab-df-convert:hover {\n",
              "      background-color: #E2EBFA;\n",
              "      box-shadow: 0px 1px 2px rgba(60, 64, 67, 0.3), 0px 1px 3px 1px rgba(60, 64, 67, 0.15);\n",
              "      fill: #174EA6;\n",
              "    }\n",
              "\n",
              "    .colab-df-buttons div {\n",
              "      margin-bottom: 4px;\n",
              "    }\n",
              "\n",
              "    [theme=dark] .colab-df-convert {\n",
              "      background-color: #3B4455;\n",
              "      fill: #D2E3FC;\n",
              "    }\n",
              "\n",
              "    [theme=dark] .colab-df-convert:hover {\n",
              "      background-color: #434B5C;\n",
              "      box-shadow: 0px 1px 3px 1px rgba(0, 0, 0, 0.15);\n",
              "      filter: drop-shadow(0px 1px 2px rgba(0, 0, 0, 0.3));\n",
              "      fill: #FFFFFF;\n",
              "    }\n",
              "  </style>\n",
              "\n",
              "    <script>\n",
              "      const buttonEl =\n",
              "        document.querySelector('#df-ca4e4a75-804a-4cf9-abbe-0ae3eb406a4d button.colab-df-convert');\n",
              "      buttonEl.style.display =\n",
              "        google.colab.kernel.accessAllowed ? 'block' : 'none';\n",
              "\n",
              "      async function convertToInteractive(key) {\n",
              "        const element = document.querySelector('#df-ca4e4a75-804a-4cf9-abbe-0ae3eb406a4d');\n",
              "        const dataTable =\n",
              "          await google.colab.kernel.invokeFunction('convertToInteractive',\n",
              "                                                    [key], {});\n",
              "        if (!dataTable) return;\n",
              "\n",
              "        const docLinkHtml = 'Like what you see? Visit the ' +\n",
              "          '<a target=\"_blank\" href=https://colab.research.google.com/notebooks/data_table.ipynb>data table notebook</a>'\n",
              "          + ' to learn more about interactive tables.';\n",
              "        element.innerHTML = '';\n",
              "        dataTable['output_type'] = 'display_data';\n",
              "        await google.colab.output.renderOutput(dataTable, element);\n",
              "        const docLink = document.createElement('div');\n",
              "        docLink.innerHTML = docLinkHtml;\n",
              "        element.appendChild(docLink);\n",
              "      }\n",
              "    </script>\n",
              "  </div>\n",
              "\n",
              "\n",
              "<div id=\"df-c577edc6-6fba-4bdf-a83b-3f72d95abd15\">\n",
              "  <button class=\"colab-df-quickchart\" onclick=\"quickchart('df-c577edc6-6fba-4bdf-a83b-3f72d95abd15')\"\n",
              "            title=\"Suggest charts\"\n",
              "            style=\"display:none;\">\n",
              "\n",
              "<svg xmlns=\"http://www.w3.org/2000/svg\" height=\"24px\"viewBox=\"0 0 24 24\"\n",
              "     width=\"24px\">\n",
              "    <g>\n",
              "        <path d=\"M19 3H5c-1.1 0-2 .9-2 2v14c0 1.1.9 2 2 2h14c1.1 0 2-.9 2-2V5c0-1.1-.9-2-2-2zM9 17H7v-7h2v7zm4 0h-2V7h2v10zm4 0h-2v-4h2v4z\"/>\n",
              "    </g>\n",
              "</svg>\n",
              "  </button>\n",
              "\n",
              "<style>\n",
              "  .colab-df-quickchart {\n",
              "      --bg-color: #E8F0FE;\n",
              "      --fill-color: #1967D2;\n",
              "      --hover-bg-color: #E2EBFA;\n",
              "      --hover-fill-color: #174EA6;\n",
              "      --disabled-fill-color: #AAA;\n",
              "      --disabled-bg-color: #DDD;\n",
              "  }\n",
              "\n",
              "  [theme=dark] .colab-df-quickchart {\n",
              "      --bg-color: #3B4455;\n",
              "      --fill-color: #D2E3FC;\n",
              "      --hover-bg-color: #434B5C;\n",
              "      --hover-fill-color: #FFFFFF;\n",
              "      --disabled-bg-color: #3B4455;\n",
              "      --disabled-fill-color: #666;\n",
              "  }\n",
              "\n",
              "  .colab-df-quickchart {\n",
              "    background-color: var(--bg-color);\n",
              "    border: none;\n",
              "    border-radius: 50%;\n",
              "    cursor: pointer;\n",
              "    display: none;\n",
              "    fill: var(--fill-color);\n",
              "    height: 32px;\n",
              "    padding: 0;\n",
              "    width: 32px;\n",
              "  }\n",
              "\n",
              "  .colab-df-quickchart:hover {\n",
              "    background-color: var(--hover-bg-color);\n",
              "    box-shadow: 0 1px 2px rgba(60, 64, 67, 0.3), 0 1px 3px 1px rgba(60, 64, 67, 0.15);\n",
              "    fill: var(--button-hover-fill-color);\n",
              "  }\n",
              "\n",
              "  .colab-df-quickchart-complete:disabled,\n",
              "  .colab-df-quickchart-complete:disabled:hover {\n",
              "    background-color: var(--disabled-bg-color);\n",
              "    fill: var(--disabled-fill-color);\n",
              "    box-shadow: none;\n",
              "  }\n",
              "\n",
              "  .colab-df-spinner {\n",
              "    border: 2px solid var(--fill-color);\n",
              "    border-color: transparent;\n",
              "    border-bottom-color: var(--fill-color);\n",
              "    animation:\n",
              "      spin 1s steps(1) infinite;\n",
              "  }\n",
              "\n",
              "  @keyframes spin {\n",
              "    0% {\n",
              "      border-color: transparent;\n",
              "      border-bottom-color: var(--fill-color);\n",
              "      border-left-color: var(--fill-color);\n",
              "    }\n",
              "    20% {\n",
              "      border-color: transparent;\n",
              "      border-left-color: var(--fill-color);\n",
              "      border-top-color: var(--fill-color);\n",
              "    }\n",
              "    30% {\n",
              "      border-color: transparent;\n",
              "      border-left-color: var(--fill-color);\n",
              "      border-top-color: var(--fill-color);\n",
              "      border-right-color: var(--fill-color);\n",
              "    }\n",
              "    40% {\n",
              "      border-color: transparent;\n",
              "      border-right-color: var(--fill-color);\n",
              "      border-top-color: var(--fill-color);\n",
              "    }\n",
              "    60% {\n",
              "      border-color: transparent;\n",
              "      border-right-color: var(--fill-color);\n",
              "    }\n",
              "    80% {\n",
              "      border-color: transparent;\n",
              "      border-right-color: var(--fill-color);\n",
              "      border-bottom-color: var(--fill-color);\n",
              "    }\n",
              "    90% {\n",
              "      border-color: transparent;\n",
              "      border-bottom-color: var(--fill-color);\n",
              "    }\n",
              "  }\n",
              "</style>\n",
              "\n",
              "  <script>\n",
              "    async function quickchart(key) {\n",
              "      const quickchartButtonEl =\n",
              "        document.querySelector('#' + key + ' button');\n",
              "      quickchartButtonEl.disabled = true;  // To prevent multiple clicks.\n",
              "      quickchartButtonEl.classList.add('colab-df-spinner');\n",
              "      try {\n",
              "        const charts = await google.colab.kernel.invokeFunction(\n",
              "            'suggestCharts', [key], {});\n",
              "      } catch (error) {\n",
              "        console.error('Error during call to suggestCharts:', error);\n",
              "      }\n",
              "      quickchartButtonEl.classList.remove('colab-df-spinner');\n",
              "      quickchartButtonEl.classList.add('colab-df-quickchart-complete');\n",
              "    }\n",
              "    (() => {\n",
              "      let quickchartButtonEl =\n",
              "        document.querySelector('#df-c577edc6-6fba-4bdf-a83b-3f72d95abd15 button');\n",
              "      quickchartButtonEl.style.display =\n",
              "        google.colab.kernel.accessAllowed ? 'block' : 'none';\n",
              "    })();\n",
              "  </script>\n",
              "</div>\n",
              "    </div>\n",
              "  </div>\n"
            ]
          },
          "metadata": {},
          "execution_count": 15
        }
      ]
    },
    {
      "cell_type": "markdown",
      "source": [
        "*Findings :*\n",
        "\n",
        "*1.* *The average 'price' is around 16.99 with a standard deviation of about 4.68, indicating a fairly large variation.*\n",
        "\n",
        "*2.* *The average 'overall_rate' is about 4.77 with a standard deviation of about 0.19, showing a smaller variation.*\n",
        "\n",
        "*3.* *The 'price' distribution appears quite even with a significant difference between the first and third quartiles.*\n",
        "\n",
        "*4.* *The 'overall_rate' tend to be stable with a median and quartiles that are almost the same.*"
      ],
      "metadata": {
        "id": "Hptcx8Y1DNvd"
      }
    },
    {
      "cell_type": "code",
      "source": [
        "# describe method on categorical data\n",
        "df[categoricals].describe()"
      ],
      "metadata": {
        "colab": {
          "base_uri": "https://localhost:8080/",
          "height": 175
        },
        "id": "fHLlG4aRDRM_",
        "outputId": "4e28bbba-e013-4cce-ec57-dee8274b7b83"
      },
      "execution_count": null,
      "outputs": [
        {
          "output_type": "execute_result",
          "data": {
            "text/plain": [
              "              product_cat     brand   form age_group  gender customer_loc\n",
              "count                1539      1539   1539      1539    1539         1539\n",
              "unique                 11        26      7         8       2          133\n",
              "top     Body Moisturisers  Bioderma  Cream     25-34  female    indonesia\n",
              "freq                 1067       602    737       726    1314          436"
            ],
            "text/html": [
              "\n",
              "  <div id=\"df-af0f36c5-4d37-4f0f-b8fb-218cc401d89f\" class=\"colab-df-container\">\n",
              "    <div>\n",
              "<style scoped>\n",
              "    .dataframe tbody tr th:only-of-type {\n",
              "        vertical-align: middle;\n",
              "    }\n",
              "\n",
              "    .dataframe tbody tr th {\n",
              "        vertical-align: top;\n",
              "    }\n",
              "\n",
              "    .dataframe thead th {\n",
              "        text-align: right;\n",
              "    }\n",
              "</style>\n",
              "<table border=\"1\" class=\"dataframe\">\n",
              "  <thead>\n",
              "    <tr style=\"text-align: right;\">\n",
              "      <th></th>\n",
              "      <th>product_cat</th>\n",
              "      <th>brand</th>\n",
              "      <th>form</th>\n",
              "      <th>age_group</th>\n",
              "      <th>gender</th>\n",
              "      <th>customer_loc</th>\n",
              "    </tr>\n",
              "  </thead>\n",
              "  <tbody>\n",
              "    <tr>\n",
              "      <th>count</th>\n",
              "      <td>1539</td>\n",
              "      <td>1539</td>\n",
              "      <td>1539</td>\n",
              "      <td>1539</td>\n",
              "      <td>1539</td>\n",
              "      <td>1539</td>\n",
              "    </tr>\n",
              "    <tr>\n",
              "      <th>unique</th>\n",
              "      <td>11</td>\n",
              "      <td>26</td>\n",
              "      <td>7</td>\n",
              "      <td>8</td>\n",
              "      <td>2</td>\n",
              "      <td>133</td>\n",
              "    </tr>\n",
              "    <tr>\n",
              "      <th>top</th>\n",
              "      <td>Body Moisturisers</td>\n",
              "      <td>Bioderma</td>\n",
              "      <td>Cream</td>\n",
              "      <td>25-34</td>\n",
              "      <td>female</td>\n",
              "      <td>indonesia</td>\n",
              "    </tr>\n",
              "    <tr>\n",
              "      <th>freq</th>\n",
              "      <td>1067</td>\n",
              "      <td>602</td>\n",
              "      <td>737</td>\n",
              "      <td>726</td>\n",
              "      <td>1314</td>\n",
              "      <td>436</td>\n",
              "    </tr>\n",
              "  </tbody>\n",
              "</table>\n",
              "</div>\n",
              "    <div class=\"colab-df-buttons\">\n",
              "\n",
              "  <div class=\"colab-df-container\">\n",
              "    <button class=\"colab-df-convert\" onclick=\"convertToInteractive('df-af0f36c5-4d37-4f0f-b8fb-218cc401d89f')\"\n",
              "            title=\"Convert this dataframe to an interactive table.\"\n",
              "            style=\"display:none;\">\n",
              "\n",
              "  <svg xmlns=\"http://www.w3.org/2000/svg\" height=\"24px\" viewBox=\"0 -960 960 960\">\n",
              "    <path d=\"M120-120v-720h720v720H120Zm60-500h600v-160H180v160Zm220 220h160v-160H400v160Zm0 220h160v-160H400v160ZM180-400h160v-160H180v160Zm440 0h160v-160H620v160ZM180-180h160v-160H180v160Zm440 0h160v-160H620v160Z\"/>\n",
              "  </svg>\n",
              "    </button>\n",
              "\n",
              "  <style>\n",
              "    .colab-df-container {\n",
              "      display:flex;\n",
              "      gap: 12px;\n",
              "    }\n",
              "\n",
              "    .colab-df-convert {\n",
              "      background-color: #E8F0FE;\n",
              "      border: none;\n",
              "      border-radius: 50%;\n",
              "      cursor: pointer;\n",
              "      display: none;\n",
              "      fill: #1967D2;\n",
              "      height: 32px;\n",
              "      padding: 0 0 0 0;\n",
              "      width: 32px;\n",
              "    }\n",
              "\n",
              "    .colab-df-convert:hover {\n",
              "      background-color: #E2EBFA;\n",
              "      box-shadow: 0px 1px 2px rgba(60, 64, 67, 0.3), 0px 1px 3px 1px rgba(60, 64, 67, 0.15);\n",
              "      fill: #174EA6;\n",
              "    }\n",
              "\n",
              "    .colab-df-buttons div {\n",
              "      margin-bottom: 4px;\n",
              "    }\n",
              "\n",
              "    [theme=dark] .colab-df-convert {\n",
              "      background-color: #3B4455;\n",
              "      fill: #D2E3FC;\n",
              "    }\n",
              "\n",
              "    [theme=dark] .colab-df-convert:hover {\n",
              "      background-color: #434B5C;\n",
              "      box-shadow: 0px 1px 3px 1px rgba(0, 0, 0, 0.15);\n",
              "      filter: drop-shadow(0px 1px 2px rgba(0, 0, 0, 0.3));\n",
              "      fill: #FFFFFF;\n",
              "    }\n",
              "  </style>\n",
              "\n",
              "    <script>\n",
              "      const buttonEl =\n",
              "        document.querySelector('#df-af0f36c5-4d37-4f0f-b8fb-218cc401d89f button.colab-df-convert');\n",
              "      buttonEl.style.display =\n",
              "        google.colab.kernel.accessAllowed ? 'block' : 'none';\n",
              "\n",
              "      async function convertToInteractive(key) {\n",
              "        const element = document.querySelector('#df-af0f36c5-4d37-4f0f-b8fb-218cc401d89f');\n",
              "        const dataTable =\n",
              "          await google.colab.kernel.invokeFunction('convertToInteractive',\n",
              "                                                    [key], {});\n",
              "        if (!dataTable) return;\n",
              "\n",
              "        const docLinkHtml = 'Like what you see? Visit the ' +\n",
              "          '<a target=\"_blank\" href=https://colab.research.google.com/notebooks/data_table.ipynb>data table notebook</a>'\n",
              "          + ' to learn more about interactive tables.';\n",
              "        element.innerHTML = '';\n",
              "        dataTable['output_type'] = 'display_data';\n",
              "        await google.colab.output.renderOutput(dataTable, element);\n",
              "        const docLink = document.createElement('div');\n",
              "        docLink.innerHTML = docLinkHtml;\n",
              "        element.appendChild(docLink);\n",
              "      }\n",
              "    </script>\n",
              "  </div>\n",
              "\n",
              "\n",
              "<div id=\"df-e23d758d-99fc-4f7b-ad1b-607d8c84f0b3\">\n",
              "  <button class=\"colab-df-quickchart\" onclick=\"quickchart('df-e23d758d-99fc-4f7b-ad1b-607d8c84f0b3')\"\n",
              "            title=\"Suggest charts\"\n",
              "            style=\"display:none;\">\n",
              "\n",
              "<svg xmlns=\"http://www.w3.org/2000/svg\" height=\"24px\"viewBox=\"0 0 24 24\"\n",
              "     width=\"24px\">\n",
              "    <g>\n",
              "        <path d=\"M19 3H5c-1.1 0-2 .9-2 2v14c0 1.1.9 2 2 2h14c1.1 0 2-.9 2-2V5c0-1.1-.9-2-2-2zM9 17H7v-7h2v7zm4 0h-2V7h2v10zm4 0h-2v-4h2v4z\"/>\n",
              "    </g>\n",
              "</svg>\n",
              "  </button>\n",
              "\n",
              "<style>\n",
              "  .colab-df-quickchart {\n",
              "      --bg-color: #E8F0FE;\n",
              "      --fill-color: #1967D2;\n",
              "      --hover-bg-color: #E2EBFA;\n",
              "      --hover-fill-color: #174EA6;\n",
              "      --disabled-fill-color: #AAA;\n",
              "      --disabled-bg-color: #DDD;\n",
              "  }\n",
              "\n",
              "  [theme=dark] .colab-df-quickchart {\n",
              "      --bg-color: #3B4455;\n",
              "      --fill-color: #D2E3FC;\n",
              "      --hover-bg-color: #434B5C;\n",
              "      --hover-fill-color: #FFFFFF;\n",
              "      --disabled-bg-color: #3B4455;\n",
              "      --disabled-fill-color: #666;\n",
              "  }\n",
              "\n",
              "  .colab-df-quickchart {\n",
              "    background-color: var(--bg-color);\n",
              "    border: none;\n",
              "    border-radius: 50%;\n",
              "    cursor: pointer;\n",
              "    display: none;\n",
              "    fill: var(--fill-color);\n",
              "    height: 32px;\n",
              "    padding: 0;\n",
              "    width: 32px;\n",
              "  }\n",
              "\n",
              "  .colab-df-quickchart:hover {\n",
              "    background-color: var(--hover-bg-color);\n",
              "    box-shadow: 0 1px 2px rgba(60, 64, 67, 0.3), 0 1px 3px 1px rgba(60, 64, 67, 0.15);\n",
              "    fill: var(--button-hover-fill-color);\n",
              "  }\n",
              "\n",
              "  .colab-df-quickchart-complete:disabled,\n",
              "  .colab-df-quickchart-complete:disabled:hover {\n",
              "    background-color: var(--disabled-bg-color);\n",
              "    fill: var(--disabled-fill-color);\n",
              "    box-shadow: none;\n",
              "  }\n",
              "\n",
              "  .colab-df-spinner {\n",
              "    border: 2px solid var(--fill-color);\n",
              "    border-color: transparent;\n",
              "    border-bottom-color: var(--fill-color);\n",
              "    animation:\n",
              "      spin 1s steps(1) infinite;\n",
              "  }\n",
              "\n",
              "  @keyframes spin {\n",
              "    0% {\n",
              "      border-color: transparent;\n",
              "      border-bottom-color: var(--fill-color);\n",
              "      border-left-color: var(--fill-color);\n",
              "    }\n",
              "    20% {\n",
              "      border-color: transparent;\n",
              "      border-left-color: var(--fill-color);\n",
              "      border-top-color: var(--fill-color);\n",
              "    }\n",
              "    30% {\n",
              "      border-color: transparent;\n",
              "      border-left-color: var(--fill-color);\n",
              "      border-top-color: var(--fill-color);\n",
              "      border-right-color: var(--fill-color);\n",
              "    }\n",
              "    40% {\n",
              "      border-color: transparent;\n",
              "      border-right-color: var(--fill-color);\n",
              "      border-top-color: var(--fill-color);\n",
              "    }\n",
              "    60% {\n",
              "      border-color: transparent;\n",
              "      border-right-color: var(--fill-color);\n",
              "    }\n",
              "    80% {\n",
              "      border-color: transparent;\n",
              "      border-right-color: var(--fill-color);\n",
              "      border-bottom-color: var(--fill-color);\n",
              "    }\n",
              "    90% {\n",
              "      border-color: transparent;\n",
              "      border-bottom-color: var(--fill-color);\n",
              "    }\n",
              "  }\n",
              "</style>\n",
              "\n",
              "  <script>\n",
              "    async function quickchart(key) {\n",
              "      const quickchartButtonEl =\n",
              "        document.querySelector('#' + key + ' button');\n",
              "      quickchartButtonEl.disabled = true;  // To prevent multiple clicks.\n",
              "      quickchartButtonEl.classList.add('colab-df-spinner');\n",
              "      try {\n",
              "        const charts = await google.colab.kernel.invokeFunction(\n",
              "            'suggestCharts', [key], {});\n",
              "      } catch (error) {\n",
              "        console.error('Error during call to suggestCharts:', error);\n",
              "      }\n",
              "      quickchartButtonEl.classList.remove('colab-df-spinner');\n",
              "      quickchartButtonEl.classList.add('colab-df-quickchart-complete');\n",
              "    }\n",
              "    (() => {\n",
              "      let quickchartButtonEl =\n",
              "        document.querySelector('#df-e23d758d-99fc-4f7b-ad1b-607d8c84f0b3 button');\n",
              "      quickchartButtonEl.style.display =\n",
              "        google.colab.kernel.accessAllowed ? 'block' : 'none';\n",
              "    })();\n",
              "  </script>\n",
              "</div>\n",
              "    </div>\n",
              "  </div>\n"
            ]
          },
          "metadata": {},
          "execution_count": 16
        }
      ]
    },
    {
      "cell_type": "markdown",
      "source": [
        "*Findings :*\n",
        "\n",
        "*Most of them have research experience.*"
      ],
      "metadata": {
        "id": "GBGgvl2-D5Y0"
      }
    },
    {
      "cell_type": "markdown",
      "source": [
        "## 5. Univariate Analysis"
      ],
      "metadata": {
        "id": "Hef7MSiDFEAY"
      }
    },
    {
      "cell_type": "code",
      "source": [
        "# Boxplot to detect outliers\n",
        "features = numericals\n",
        "for i in range(0, len(features)):\n",
        "    plt.subplot(1, len(features), i+1)\n",
        "    sns.boxplot(y=df[features[i]], color='skyblue')\n",
        "    plt.tight_layout()"
      ],
      "metadata": {
        "colab": {
          "base_uri": "https://localhost:8080/",
          "height": 487
        },
        "id": "86AbcNwCFLPC",
        "outputId": "29433f8b-262b-4bad-83ef-106d6ab30a2c"
      },
      "execution_count": null,
      "outputs": [
        {
          "output_type": "display_data",
          "data": {
            "text/plain": [
              "<Figure size 640x480 with 2 Axes>"
            ],
            "image/png": "[encoded data removed]"
          },
          "metadata": {}
        }
      ]
    },
    {
      "cell_type": "markdown",
      "source": [
        "*Findings :*\n",
        "\n",
        "*There is an outlier in the 'price' column and 'overall_rate' column.*"
      ],
      "metadata": {
        "id": "F7P5jBcQPnmx"
      }
    },
    {
      "cell_type": "code",
      "source": [
        "features = numericals\n",
        "\n",
        "# Set the figure size\n",
        "plt.figure(figsize=(12, 5))\n",
        "\n",
        "# Iterate through numerical features\n",
        "for index, feature in enumerate(features):\n",
        "\n",
        "    # Using displot for distribution plot\n",
        "    sns.displot(x=df[feature], color='skyblue', kde=True)\n",
        "    plt.title(f'Distribution of {feature}')\n",
        "    plt.xlabel(feature)\n",
        "\n",
        "    plt.tight_layout()\n",
        "\n",
        "# Show the plots\n",
        "plt.show()"
      ],
      "metadata": {
        "colab": {
          "base_uri": "https://localhost:8080/",
          "height": 1000
        },
        "id": "QxtAOiNCI5LM",
        "outputId": "cdfd6f7c-8fba-421f-a6fd-38db8f900ee8"
      },
      "execution_count": null,
      "outputs": [
        {
          "output_type": "display_data",
          "data": {
            "text/plain": [
              "<Figure size 1200x500 with 0 Axes>"
            ]
          },
          "metadata": {}
        },
        {
          "output_type": "display_data",
          "data": {
            "text/plain": [
              "<Figure size 500x500 with 1 Axes>"
            ],
            "image/png": "[encoded data removed]"
          },
          "metadata": {}
        },
        {
          "output_type": "display_data",
          "data": {
            "text/plain": [
              "<Figure size 500x500 with 1 Axes>"
            ],
            "image/png": "[encoded data removed]"
          },
          "metadata": {}
        }
      ]
    },
    {
      "cell_type": "markdown",
      "source": [
        "*Findings :*\n",
        "\n",
        "*1.* *The 'price' column has a symmetrical distribution.*\n",
        "\n",
        "*2.* *The 'overall_rate' column has a long tail on the left side, with most values located to the right of the median (skewness < 0), indicating a left-skewed (negatively skewed) distribution.*"
      ],
      "metadata": {
        "id": "crIH0mx_VHrT"
      }
    },
    {
      "cell_type": "markdown",
      "source": [
        "## 6. Bivariate Analysis"
      ],
      "metadata": {
        "id": "oSDFJ5MlYMol"
      }
    },
    {
      "cell_type": "code",
      "source": [
        "# Countplot for Product Category vs Gender\n",
        "plt.figure(figsize=(14, 8))\n",
        "sns.countplot(data=df, x='product_cat', hue='gender', palette='Set1')\n",
        "plt.title('Countplot for Product Category vs Gender')\n",
        "plt.xlabel('Product Category')\n",
        "plt.ylabel('Count')\n",
        "plt.legend(title='Gender')\n",
        "plt.xticks(rotation=45, ha='right')  # Rotasi label sumbu x untuk meningkatkan kejelasan\n",
        "plt.show()"
      ],
      "metadata": {
        "colab": {
          "base_uri": "https://localhost:8080/",
          "height": 988
        },
        "id": "bFX3ectvYTXZ",
        "outputId": "2a2e1793-57b4-415c-fa6d-a8cf23fbaf9f"
      },
      "execution_count": null,
      "outputs": [
        {
          "output_type": "display_data",
          "data": {
            "text/plain": [
              "<Figure size 1400x800 with 1 Axes>"
            ],
            "image/png": "[encoded data removed]"
          },
          "metadata": {}
        }
      ]
    },
    {
      "cell_type": "markdown",
      "source": [
        "*Findings :*\n",
        "\n",
        "*For overall product categories, there is a difference in purchasing interest. Individuals with a female gender show a higher purchasing tendency compared to males. The difference is particularly significant, especially for products in the 'body moisturizer' category.*"
      ],
      "metadata": {
        "id": "9Alz4wGcwb1k"
      }
    },
    {
      "cell_type": "code",
      "source": [
        "# Calculating the correlation between columns in the data\n",
        "numeric_columns = ['price', 'overall_rate']\n",
        "numeric_df = df[numeric_columns]\n",
        "\n",
        "# Menghitung korelasi hanya untuk kolom-kolom numerik\n",
        "correlation = numeric_df.corr()\n",
        "\n",
        "# Creating a correlation heatmap with annotations and a two-decimal format\n",
        "sns.heatmap(correlation, annot=True, fmt='.2f')"
      ],
      "metadata": {
        "colab": {
          "base_uri": "https://localhost:8080/",
          "height": 452
        },
        "id": "9omlhRTuwula",
        "outputId": "a564b38d-64c1-4c2d-baca-8cea28a6467b"
      },
      "execution_count": null,
      "outputs": [
        {
          "output_type": "execute_result",
          "data": {
            "text/plain": [
              "<Axes: >"
            ]
          },
          "metadata": {},
          "execution_count": 20
        },
        {
          "output_type": "display_data",
          "data": {
            "text/plain": [
              "<Figure size 640x480 with 2 Axes>"
            ],
            "image/png": "[encoded data removed]"
          },
          "metadata": {}
        }
      ]
    },
    {
      "cell_type": "markdown",
      "source": [
        "*Findings :*\n",
        "\n",
        "*A correlation close to 0 indicates a weak correlation between two variables. Changes in 'price' are not linearly correlated with changes in 'overall_rate'. Despite a positive correlation (overall values tend to increase with increasing prices) as indicated by the positive sign, the value is still low, so we cannot say that the correlation between the two is very strong.*"
      ],
      "metadata": {
        "id": "TUKewpqszTy9"
      }
    },
    {
      "cell_type": "markdown",
      "source": [
        "## 7. Overall Summary"
      ],
      "metadata": {
        "id": "TFoktYnC19I-"
      }
    },
    {
      "cell_type": "markdown",
      "source": [
        "*Findings :*\n",
        "\n",
        "*1.* *The data doesn't have significant issues that require in-depth handling, there is only inconsistent casing in the 'customer_loc' column, and it has already been resolved.*\n",
        "\n",
        "*2.* *The minimum and maximum values are reasonable for each column.*\n",
        "\n",
        "*3.* *The 'price' column displays a symmetrical distribution, while the 'overall_rate' column is left-skewed with an outlier in both columns.*\n",
        "\n",
        "*4.* *Across product categories, there is a gender-based difference in purchasing interest, with females showing a higher tendency, particularly for 'body moisturizer' products.*\n",
        "\n",
        "*5.* *There is a weak correlation between 'price' and 'overall_rate' suggesting a non-linear relationship between the two. However, this does not indicate a cause-and-effect relationship or a causal connection because, despite the low correlation, there may still be a non-linear relationship or other factors influencing the association between price and overall rating.*"
      ],
      "metadata": {
        "id": "WX1H5SXw2Cq6"
      }
    }
  ]
}